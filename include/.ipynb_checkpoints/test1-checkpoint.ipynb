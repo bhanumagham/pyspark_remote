{
 "cells": [
  {
   "cell_type": "code",
   "execution_count": null,
   "id": "d5b4ad42-a1fa-476c-81b8-6c98ae2de5d0",
   "metadata": {},
   "outputs": [],
   "source": [
    "from pyspark.sql import SparkSession\n",
    "\n",
    "spark = SparkSession.builder.appName(\"demo\").getOrCreate()"
   ]
  },
  {
   "cell_type": "code",
   "execution_count": null,
   "id": "29b42528-e43d-481f-b90d-2d094b577344",
   "metadata": {},
   "outputs": [],
   "source": [
    "df = spark.createDataFrame(\n",
    "    [\n",
    "        (\"sue\", 32),\n",
    "        (\"li\", 3),\n",
    "        (\"bob\", 75),\n",
    "        (\"heo\", 13),\n",
    "    ],\n",
    "    [\"first_name\", \"age\"],\n",
    ")"
   ]
  },
  {
   "cell_type": "code",
   "execution_count": null,
   "id": "ac5b0811-524f-460b-8b2c-f8fbd1eb2e46",
   "metadata": {},
   "outputs": [],
   "source": [
    "df.show()"
   ]
  },
  {
   "cell_type": "code",
   "execution_count": null,
   "id": "09a4f851-55cb-4e3c-85c2-2f4b26bf4a8b",
   "metadata": {},
   "outputs": [],
   "source": [
    "spark.sparkContext.getConf().getAll()"
   ]
  },
  {
   "cell_type": "code",
   "execution_count": null,
   "id": "a4c4d155-2ff9-4f80-b4e6-66096eea9b98",
   "metadata": {},
   "outputs": [],
   "source": [
    "df.write.mode(\"overwrite\").csv(\"/home/jovyan/data/dummy.csv\")"
   ]
  },
  {
   "cell_type": "code",
   "execution_count": null,
   "id": "09b11f78-3ccb-4534-8d4a-75572ec755c4",
   "metadata": {},
   "outputs": [],
   "source": [
    "df.write.mode(\"overwrite\").parquet(\"/home/jovyan/data/dummy1.parquet\")"
   ]
  },
  {
   "cell_type": "code",
   "execution_count": null,
   "id": "1189bceb-9063-4160-8686-38e1f49d940c",
   "metadata": {},
   "outputs": [],
   "source": [
    "%env"
   ]
  },
  {
   "cell_type": "code",
   "execution_count": 3,
   "id": "cd180c77-47b7-4fbf-b030-0c3bd770038f",
   "metadata": {},
   "outputs": [],
   "source": [
    "jars = \",\".join([\"/usr/local/spark/jars/delta-spark_2.12-3.0.0.jar\",\n",
    "\"/usr/local/spark/jars/delta-storage-3.0.0.jar\"])\n",
    "\n"
   ]
  },
  {
   "cell_type": "code",
   "execution_count": 4,
   "id": "41355b0b-d64e-49d2-ac13-0ef5e7bc3cd6",
   "metadata": {},
   "outputs": [
    {
     "data": {
      "text/plain": [
       "'/usr/local/spark/jars/delta-spark_2.12-3.0.0.jar,/usr/local/spark/jars/delta-storage-3.0.0.jar'"
      ]
     },
     "execution_count": 4,
     "metadata": {},
     "output_type": "execute_result"
    }
   ],
   "source": [
    "jars"
   ]
  },
  {
   "cell_type": "code",
   "execution_count": 5,
   "id": "2a740286-5a0d-4e6a-9b14-4b80b04c4fef",
   "metadata": {},
   "outputs": [
    {
     "name": "stdout",
     "output_type": "stream",
     "text": [
      "Creating new SparkSession\n"
     ]
    }
   ],
   "source": [
    "from pyspark.sql import SparkSession\n",
    "from delta import configure_spark_with_delta_pip\n",
    "\n",
    "# Check if SparkSession already exists\n",
    "if 'spark' in locals() and spark._jsc is not None:\n",
    "    print(\"Using existing SparkSession\")\n",
    "else:\n",
    "    print(\"Creating new SparkSession\")\n",
    "    builder = SparkSession.builder \\\n",
    "        .appName(\"DeltaLakeApp\")\\\n",
    "        .config(\"spark.sql.extensions\", \"io.delta.sql.DeltaSparkSessionExtension\") \\\n",
    "        .config(\"spark.sql.catalog.spark_catalog\", \"org.apache.spark.sql.delta.catalog.DeltaCatalog\")\n",
    "        \n",
    "\n",
    "    spark = builder.getOrCreate()"
   ]
  },
  {
   "cell_type": "code",
   "execution_count": null,
   "id": "5f5be481-bf9a-4424-9c48-47ff2323f9ee",
   "metadata": {},
   "outputs": [],
   "source": [
    "spark.sparkContext.getConf().getAll()\n",
    " #.config(\"spark.jars\", jars) \\\n",
    " \\.master(\"spark://spark-master:7077\")\n",
    "        .config(\"spark.sql.extensions\", \"io.delta.sql.DeltaSparkSessionExtension\") \\\n",
    "        .config(\"spark.sql.catalog.spark_catalog\", \"org.apache.spark.sql.delta.catalog.DeltaCatalog\")\n",
    "configure_spark_with_delta_pip("
   ]
  },
  {
   "cell_type": "code",
   "execution_count": 6,
   "id": "a38813d6-08a6-44c8-aee3-20f0718616da",
   "metadata": {},
   "outputs": [
    {
     "data": {
      "text/plain": [
       "[('spark.app.name', 'DeltaLakeApp'),\n",
       " ('spark.executor.id', 'driver'),\n",
       " ('spark.app.submitTime', '1751963669733'),\n",
       " ('spark.driver.port', '39089'),\n",
       " ('spark.app.id', 'local-1751963671153'),\n",
       " ('spark.driver.extraJavaOptions',\n",
       "  '-Djava.net.preferIPv6Addresses=false -XX:+IgnoreUnrecognizedVMOptions --add-opens=java.base/java.lang=ALL-UNNAMED --add-opens=java.base/java.lang.invoke=ALL-UNNAMED --add-opens=java.base/java.lang.reflect=ALL-UNNAMED --add-opens=java.base/java.io=ALL-UNNAMED --add-opens=java.base/java.net=ALL-UNNAMED --add-opens=java.base/java.nio=ALL-UNNAMED --add-opens=java.base/java.util=ALL-UNNAMED --add-opens=java.base/java.util.concurrent=ALL-UNNAMED --add-opens=java.base/java.util.concurrent.atomic=ALL-UNNAMED --add-opens=java.base/sun.nio.ch=ALL-UNNAMED --add-opens=java.base/sun.nio.cs=ALL-UNNAMED --add-opens=java.base/sun.security.action=ALL-UNNAMED --add-opens=java.base/sun.util.calendar=ALL-UNNAMED --add-opens=java.security.jgss/sun.security.krb5=ALL-UNNAMED -Djdk.reflect.useDirectMethodHandle=false'),\n",
       " ('spark.app.startTime', '1751963669972'),\n",
       " ('spark.sql.extensions', 'io.delta.sql.DeltaSparkSessionExtension'),\n",
       " ('spark.rdd.compress', 'True'),\n",
       " ('spark.serializer.objectStreamReset', '100'),\n",
       " ('spark.driver.host', 'f775669fa58c'),\n",
       " ('spark.master', 'local[*]'),\n",
       " ('spark.submit.pyFiles', ''),\n",
       " ('spark.submit.deployMode', 'client'),\n",
       " ('spark.ui.showConsoleProgress', 'true'),\n",
       " ('spark.sql.catalog.spark_catalog',\n",
       "  'org.apache.spark.sql.delta.catalog.DeltaCatalog'),\n",
       " ('spark.executor.extraJavaOptions',\n",
       "  '-Djava.net.preferIPv6Addresses=false -XX:+IgnoreUnrecognizedVMOptions --add-opens=java.base/java.lang=ALL-UNNAMED --add-opens=java.base/java.lang.invoke=ALL-UNNAMED --add-opens=java.base/java.lang.reflect=ALL-UNNAMED --add-opens=java.base/java.io=ALL-UNNAMED --add-opens=java.base/java.net=ALL-UNNAMED --add-opens=java.base/java.nio=ALL-UNNAMED --add-opens=java.base/java.util=ALL-UNNAMED --add-opens=java.base/java.util.concurrent=ALL-UNNAMED --add-opens=java.base/java.util.concurrent.atomic=ALL-UNNAMED --add-opens=java.base/sun.nio.ch=ALL-UNNAMED --add-opens=java.base/sun.nio.cs=ALL-UNNAMED --add-opens=java.base/sun.security.action=ALL-UNNAMED --add-opens=java.base/sun.util.calendar=ALL-UNNAMED --add-opens=java.security.jgss/sun.security.krb5=ALL-UNNAMED -Djdk.reflect.useDirectMethodHandle=false')]"
      ]
     },
     "execution_count": 6,
     "metadata": {},
     "output_type": "execute_result"
    }
   ],
   "source": [
    "spark.sparkContext.getConf().getAll()"
   ]
  },
  {
   "cell_type": "code",
   "execution_count": 7,
   "id": "e690cac5-b9e1-4ed7-a507-5dd51420bf26",
   "metadata": {},
   "outputs": [],
   "source": [
    "# Create Delta Table\n",
    "df = spark.createDataFrame(\n",
    "    [\n",
    "        (\"sue\", 32),\n",
    "        (\"li\", 3),\n",
    "        (\"bob\", 75),\n",
    "        (\"heo\", 13),\n",
    "    ],\n",
    "    [\"first_name\", \"age\"],\n",
    ")"
   ]
  },
  {
   "cell_type": "code",
   "execution_count": 8,
   "id": "a62222bb-c1f0-4f0e-b257-35adb2eb87b9",
   "metadata": {},
   "outputs": [
    {
     "name": "stdout",
     "output_type": "stream",
     "text": [
      "+----------+---+\n",
      "|first_name|age|\n",
      "+----------+---+\n",
      "|       sue| 32|\n",
      "|        li|  3|\n",
      "|       bob| 75|\n",
      "|       heo| 13|\n",
      "+----------+---+\n",
      "\n"
     ]
    }
   ],
   "source": [
    "df.show()"
   ]
  },
  {
   "cell_type": "code",
   "execution_count": 9,
   "id": "77061a9b-5f5b-4227-a0b4-5b254977fb60",
   "metadata": {},
   "outputs": [],
   "source": [
    "df.write.format(\"delta\").save(\"/home/jovyan/data/delta-table\")"
   ]
  },
  {
   "cell_type": "code",
   "execution_count": null,
   "id": "041c3ee5-7cd1-4731-825a-54e0d7d0b89f",
   "metadata": {},
   "outputs": [],
   "source": []
  },
  {
   "cell_type": "code",
   "execution_count": 1,
   "id": "0d82edbe-b731-4837-8319-094c8d2ad896",
   "metadata": {},
   "outputs": [
    {
     "name": "stdout",
     "output_type": "stream",
     "text": [
      "activation-1.1.1.jar\n",
      "aircompressor-0.25.jar\n",
      "algebra_2.12-2.0.1.jar\n",
      "annotations-17.0.0.jar\n",
      "antlr4-runtime-4.9.3.jar\n",
      "antlr-runtime-3.5.2.jar\n",
      "aopalliance-repackaged-2.6.1.jar\n",
      "arpack-3.0.3.jar\n",
      "arpack_combined_all-0.1.jar\n",
      "arrow-format-12.0.1.jar\n",
      "arrow-memory-core-12.0.1.jar\n",
      "arrow-memory-netty-12.0.1.jar\n",
      "arrow-vector-12.0.1.jar\n",
      "audience-annotations-0.5.0.jar\n",
      "avro-1.11.2.jar\n",
      "avro-ipc-1.11.2.jar\n",
      "avro-mapred-1.11.2.jar\n",
      "blas-3.0.3.jar\n",
      "bonecp-0.8.0.RELEASE.jar\n",
      "breeze_2.12-2.1.0.jar\n",
      "breeze-macros_2.12-2.1.0.jar\n",
      "cats-kernel_2.12-2.1.1.jar\n",
      "chill_2.12-0.10.0.jar\n",
      "chill-java-0.10.0.jar\n",
      "commons-cli-1.5.0.jar\n",
      "commons-codec-1.16.0.jar\n",
      "commons-collections-3.2.2.jar\n",
      "commons-collections4-4.4.jar\n",
      "commons-compiler-3.1.9.jar\n",
      "commons-compress-1.23.0.jar\n",
      "commons-crypto-1.1.0.jar\n",
      "commons-dbcp-1.4.jar\n",
      "commons-io-2.13.0.jar\n",
      "commons-lang-2.6.jar\n",
      "commons-lang3-3.12.0.jar\n",
      "commons-logging-1.1.3.jar\n",
      "commons-math3-3.6.1.jar\n",
      "commons-pool-1.5.4.jar\n",
      "commons-text-1.10.0.jar\n",
      "compress-lzf-1.1.2.jar\n",
      "curator-client-2.13.0.jar\n",
      "curator-framework-2.13.0.jar\n",
      "curator-recipes-2.13.0.jar\n",
      "datanucleus-api-jdo-4.2.4.jar\n",
      "datanucleus-core-4.1.17.jar\n",
      "datanucleus-rdbms-4.1.19.jar\n",
      "datasketches-java-3.3.0.jar\n",
      "datasketches-memory-2.1.0.jar\n",
      "delta-spark_2.12-3.0.0.jar\n",
      "delta-storage-3.0.0.jar\n",
      "derby-10.14.2.0.jar\n",
      "dropwizard-metrics-hadoop-metrics2-reporter-0.1.2.jar\n",
      "flatbuffers-java-1.12.0.jar\n",
      "gson-2.2.4.jar\n",
      "guava-14.0.1.jar\n",
      "hadoop-client-api-3.3.4.jar\n",
      "hadoop-client-runtime-3.3.4.jar\n",
      "hadoop-shaded-guava-1.1.1.jar\n",
      "hadoop-yarn-server-web-proxy-3.3.4.jar\n",
      "HikariCP-2.5.1.jar\n",
      "hive-beeline-2.3.9.jar\n",
      "hive-cli-2.3.9.jar\n",
      "hive-common-2.3.9.jar\n",
      "hive-exec-2.3.9-core.jar\n",
      "hive-jdbc-2.3.9.jar\n",
      "hive-llap-common-2.3.9.jar\n",
      "hive-metastore-2.3.9.jar\n",
      "hive-serde-2.3.9.jar\n",
      "hive-service-rpc-3.1.3.jar\n",
      "hive-shims-0.23-2.3.9.jar\n",
      "hive-shims-2.3.9.jar\n",
      "hive-shims-common-2.3.9.jar\n",
      "hive-shims-scheduler-2.3.9.jar\n",
      "hive-storage-api-2.8.1.jar\n",
      "hk2-api-2.6.1.jar\n",
      "hk2-locator-2.6.1.jar\n",
      "hk2-utils-2.6.1.jar\n",
      "httpclient-4.5.14.jar\n",
      "httpcore-4.4.16.jar\n",
      "istack-commons-runtime-3.0.8.jar\n",
      "ivy-2.5.1.jar\n",
      "jackson-annotations-2.15.2.jar\n",
      "jackson-core-2.15.2.jar\n",
      "jackson-core-asl-1.9.13.jar\n",
      "jackson-databind-2.15.2.jar\n",
      "jackson-dataformat-yaml-2.15.2.jar\n",
      "jackson-datatype-jsr310-2.15.2.jar\n",
      "jackson-mapper-asl-1.9.13.jar\n",
      "jackson-module-scala_2.12-2.15.2.jar\n",
      "jakarta.annotation-api-1.3.5.jar\n",
      "jakarta.inject-2.6.1.jar\n",
      "jakarta.servlet-api-4.0.3.jar\n",
      "jakarta.validation-api-2.0.2.jar\n",
      "jakarta.ws.rs-api-2.1.6.jar\n",
      "jakarta.xml.bind-api-2.3.2.jar\n",
      "janino-3.1.9.jar\n",
      "javassist-3.29.2-GA.jar\n",
      "javax.jdo-3.2.0-m3.jar\n",
      "javolution-5.5.1.jar\n",
      "jaxb-runtime-2.3.2.jar\n",
      "jcl-over-slf4j-2.0.7.jar\n",
      "jdo-api-3.0.1.jar\n",
      "jersey-client-2.40.jar\n",
      "jersey-common-2.40.jar\n",
      "jersey-container-servlet-2.40.jar\n",
      "jersey-container-servlet-core-2.40.jar\n",
      "jersey-hk2-2.40.jar\n",
      "jersey-server-2.40.jar\n",
      "JLargeArrays-1.5.jar\n",
      "jline-2.14.6.jar\n",
      "joda-time-2.12.5.jar\n",
      "jodd-core-3.5.2.jar\n",
      "jpam-1.1.jar\n",
      "json-1.8.jar\n",
      "json4s-ast_2.12-3.7.0-M11.jar\n",
      "json4s-core_2.12-3.7.0-M11.jar\n",
      "json4s-jackson_2.12-3.7.0-M11.jar\n",
      "json4s-scalap_2.12-3.7.0-M11.jar\n",
      "jsr305-3.0.0.jar\n",
      "jta-1.1.jar\n",
      "JTransforms-3.1.jar\n",
      "jul-to-slf4j-2.0.7.jar\n",
      "kryo-shaded-4.0.2.jar\n",
      "kubernetes-client-6.7.2.jar\n",
      "kubernetes-client-api-6.7.2.jar\n",
      "kubernetes-httpclient-okhttp-6.7.2.jar\n",
      "kubernetes-model-admissionregistration-6.7.2.jar\n",
      "kubernetes-model-apiextensions-6.7.2.jar\n",
      "kubernetes-model-apps-6.7.2.jar\n",
      "kubernetes-model-autoscaling-6.7.2.jar\n",
      "kubernetes-model-batch-6.7.2.jar\n",
      "kubernetes-model-certificates-6.7.2.jar\n",
      "kubernetes-model-common-6.7.2.jar\n",
      "kubernetes-model-coordination-6.7.2.jar\n",
      "kubernetes-model-core-6.7.2.jar\n",
      "kubernetes-model-discovery-6.7.2.jar\n",
      "kubernetes-model-events-6.7.2.jar\n",
      "kubernetes-model-extensions-6.7.2.jar\n",
      "kubernetes-model-flowcontrol-6.7.2.jar\n",
      "kubernetes-model-gatewayapi-6.7.2.jar\n",
      "kubernetes-model-metrics-6.7.2.jar\n",
      "kubernetes-model-networking-6.7.2.jar\n",
      "kubernetes-model-node-6.7.2.jar\n",
      "kubernetes-model-policy-6.7.2.jar\n",
      "kubernetes-model-rbac-6.7.2.jar\n",
      "kubernetes-model-resource-6.7.2.jar\n",
      "kubernetes-model-scheduling-6.7.2.jar\n",
      "kubernetes-model-storageclass-6.7.2.jar\n",
      "lapack-3.0.3.jar\n",
      "leveldbjni-all-1.8.jar\n",
      "libfb303-0.9.3.jar\n",
      "libthrift-0.12.0.jar\n",
      "log4j-1.2-api-2.20.0.jar\n",
      "log4j-api-2.20.0.jar\n",
      "log4j-core-2.20.0.jar\n",
      "log4j-slf4j2-impl-2.20.0.jar\n",
      "logging-interceptor-3.12.12.jar\n",
      "lz4-java-1.8.0.jar\n",
      "mesos-1.4.3-shaded-protobuf.jar\n",
      "metrics-core-4.2.19.jar\n",
      "metrics-graphite-4.2.19.jar\n",
      "metrics-jmx-4.2.19.jar\n",
      "metrics-json-4.2.19.jar\n",
      "metrics-jvm-4.2.19.jar\n",
      "minlog-1.3.0.jar\n",
      "netty-all-4.1.96.Final.jar\n",
      "netty-buffer-4.1.96.Final.jar\n",
      "netty-codec-4.1.96.Final.jar\n",
      "netty-codec-http2-4.1.96.Final.jar\n",
      "netty-codec-http-4.1.96.Final.jar\n",
      "netty-codec-socks-4.1.96.Final.jar\n",
      "netty-common-4.1.96.Final.jar\n",
      "netty-handler-4.1.96.Final.jar\n",
      "netty-handler-proxy-4.1.96.Final.jar\n",
      "netty-resolver-4.1.96.Final.jar\n",
      "netty-transport-4.1.96.Final.jar\n",
      "netty-transport-classes-epoll-4.1.96.Final.jar\n",
      "netty-transport-classes-kqueue-4.1.96.Final.jar\n",
      "netty-transport-native-epoll-4.1.96.Final-linux-aarch_64.jar\n",
      "netty-transport-native-epoll-4.1.96.Final-linux-x86_64.jar\n",
      "netty-transport-native-kqueue-4.1.96.Final-osx-aarch_64.jar\n",
      "netty-transport-native-kqueue-4.1.96.Final-osx-x86_64.jar\n",
      "netty-transport-native-unix-common-4.1.96.Final.jar\n",
      "objenesis-3.3.jar\n",
      "okhttp-3.12.12.jar\n",
      "okio-1.15.0.jar\n",
      "opencsv-2.3.jar\n",
      "orc-core-1.9.1-shaded-protobuf.jar\n",
      "orc-mapreduce-1.9.1-shaded-protobuf.jar\n",
      "orc-shims-1.9.1.jar\n",
      "oro-2.0.8.jar\n",
      "osgi-resource-locator-1.0.3.jar\n",
      "paranamer-2.8.jar\n",
      "parquet-column-1.13.1.jar\n",
      "parquet-common-1.13.1.jar\n",
      "parquet-encoding-1.13.1.jar\n",
      "parquet-format-structures-1.13.1.jar\n",
      "parquet-hadoop-1.13.1.jar\n",
      "parquet-jackson-1.13.1.jar\n",
      "pickle-1.3.jar\n",
      "py4j-0.10.9.7.jar\n",
      "RoaringBitmap-0.9.45.jar\n",
      "rocksdbjni-8.3.2.jar\n",
      "scala-collection-compat_2.12-2.7.0.jar\n",
      "scala-compiler-2.12.18.jar\n",
      "scala-library-2.12.18.jar\n",
      "scala-parser-combinators_2.12-2.3.0.jar\n",
      "scala-reflect-2.12.18.jar\n",
      "scala-xml_2.12-2.1.0.jar\n",
      "shims-0.9.45.jar\n",
      "slf4j-api-2.0.7.jar\n",
      "snakeyaml-2.0.jar\n",
      "snakeyaml-engine-2.6.jar\n",
      "snappy-java-1.1.10.3.jar\n",
      "spark-catalyst_2.12-3.5.0.jar\n",
      "spark-common-utils_2.12-3.5.0.jar\n",
      "spark-core_2.12-3.5.0.jar\n",
      "spark-graphx_2.12-3.5.0.jar\n",
      "spark-hive_2.12-3.5.0.jar\n",
      "spark-hive-thriftserver_2.12-3.5.0.jar\n",
      "spark-kubernetes_2.12-3.5.0.jar\n",
      "spark-kvstore_2.12-3.5.0.jar\n",
      "spark-launcher_2.12-3.5.0.jar\n",
      "spark-mesos_2.12-3.5.0.jar\n",
      "spark-mllib_2.12-3.5.0.jar\n",
      "spark-mllib-local_2.12-3.5.0.jar\n",
      "spark-network-common_2.12-3.5.0.jar\n",
      "spark-network-shuffle_2.12-3.5.0.jar\n",
      "spark-repl_2.12-3.5.0.jar\n",
      "spark-sketch_2.12-3.5.0.jar\n",
      "spark-sql_2.12-3.5.0.jar\n",
      "spark-sql-api_2.12-3.5.0.jar\n",
      "spark-streaming_2.12-3.5.0.jar\n",
      "spark-tags_2.12-3.5.0.jar\n",
      "spark-unsafe_2.12-3.5.0.jar\n",
      "spark-yarn_2.12-3.5.0.jar\n",
      "spire_2.12-0.17.0.jar\n",
      "spire-macros_2.12-0.17.0.jar\n",
      "spire-platform_2.12-0.17.0.jar\n",
      "spire-util_2.12-0.17.0.jar\n",
      "ST4-4.0.4.jar\n",
      "stax-api-1.0.1.jar\n",
      "stream-2.9.6.jar\n",
      "super-csv-2.2.0.jar\n",
      "threeten-extra-1.7.1.jar\n",
      "tink-1.9.0.jar\n",
      "transaction-api-1.1.jar\n",
      "univocity-parsers-2.9.1.jar\n",
      "xbean-asm9-shaded-4.23.jar\n",
      "xz-1.9.jar\n",
      "zjsonpatch-0.3.0.jar\n",
      "zookeeper-3.6.3.jar\n",
      "zookeeper-jute-3.6.3.jar\n",
      "zstd-jni-1.5.5-4.jar\n"
     ]
    }
   ],
   "source": [
    "!ls /usr/local/spark/jars/"
   ]
  },
  {
   "cell_type": "code",
   "execution_count": 5,
   "id": "4bbba61f-d4e0-49d9-84b3-1c444bf062a9",
   "metadata": {},
   "outputs": [
    {
     "data": {
      "text/plain": [
       "'3.5.0'"
      ]
     },
     "execution_count": 5,
     "metadata": {},
     "output_type": "execute_result"
    }
   ],
   "source": [
    "\n",
    "spark.version\n"
   ]
  },
  {
   "cell_type": "code",
   "execution_count": null,
   "id": "6e9893e1-510b-445d-a09c-2819778577a6",
   "metadata": {},
   "outputs": [],
   "source": [
    "!pwd\n"
   ]
  },
  {
   "cell_type": "code",
   "execution_count": null,
   "id": "eb3183f9-4394-43e5-8fd8-2db63e681128",
   "metadata": {},
   "outputs": [],
   "source": [
    "# Write the DataFrame as a Delta table\n",
    "df.write.format(\"delta\").mode(\"overwrite\").save(\"/home/jovyan/data/delta_table\")"
   ]
  },
  {
   "cell_type": "code",
   "execution_count": null,
   "id": "01a78bdc-9717-4ec2-b3ca-e39bf0c63da0",
   "metadata": {},
   "outputs": [],
   "source": [
    "%env"
   ]
  },
  {
   "cell_type": "code",
   "execution_count": null,
   "id": "2d9edffc-7998-4581-a27b-0843ad349909",
   "metadata": {},
   "outputs": [],
   "source": []
  }
 ],
 "metadata": {
  "kernelspec": {
   "display_name": "Python 3 (ipykernel)",
   "language": "python",
   "name": "python3"
  },
  "language_info": {
   "codemirror_mode": {
    "name": "ipython",
    "version": 3
   },
   "file_extension": ".py",
   "mimetype": "text/x-python",
   "name": "python",
   "nbconvert_exporter": "python",
   "pygments_lexer": "ipython3",
   "version": "3.11.6"
  }
 },
 "nbformat": 4,
 "nbformat_minor": 5
}
