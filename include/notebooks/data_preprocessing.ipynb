{
 "cells": [
  {
   "cell_type": "markdown",
   "id": "60bd5c6f-8269-4370-8c72-065cd0ff7d4a",
   "metadata": {},
   "source": [
    "### Boiler Plate Codes"
   ]
  },
  {
   "cell_type": "code",
   "execution_count": 1,
   "id": "8e1ec83c-5515-4a4a-bf32-e0235ef639ae",
   "metadata": {},
   "outputs": [],
   "source": [
    "\n",
    "import os\n",
    "import sys\n",
    "import pandas as pd\n",
    "import numpy as np\n",
    "import datetime\n",
    "import math\n",
    "import pyspark\n",
    "from pyspark.sql.types import *\n",
    "from pyspark.sql import SparkSession\n",
    "from pyspark import SparkContext\n",
    "from pyspark import SparkConf\n",
    "import pyspark.sql.functions as F\n",
    "from delta import configure_spark_with_delta_pip"
   ]
  },
  {
   "cell_type": "code",
   "execution_count": 2,
   "id": "5644c154-dc7d-4d55-9f51-2040e8a6aa68",
   "metadata": {},
   "outputs": [],
   "source": [
    "jars = \",\".join([\"/usr/local/spark/jars/delta-spark_2.12-3.0.0.jar\",\n",
    "\"/usr/local/spark/jars/delta-storage-3.0.0.jar\"])\n"
   ]
  },
  {
   "cell_type": "code",
   "execution_count": 3,
   "id": "2161e34c-583e-43b2-b56e-64711d12d90f",
   "metadata": {},
   "outputs": [
    {
     "name": "stdout",
     "output_type": "stream",
     "text": [
      "Creating new SparkSession\n",
      "Spark Session Initialized\n"
     ]
    }
   ],
   "source": [
    "# Check if SparkSession already exists - use it if exists\n",
    "if 'spark' in locals() and spark._jsc is not None:\n",
    "    print(\"Using existing SparkSession\")\n",
    "else:\n",
    "    print(\"Creating new SparkSession\")\n",
    "    builder = SparkSession.builder \\\n",
    "        .appName(\"preprocessing_data\")\\\n",
    "        .config(\"spark.sql.extensions\", \"io.delta.sql.DeltaSparkSessionExtension\") \\\n",
    "        .config(\"spark.sql.catalog.spark_catalog\", \"org.apache.spark.sql.delta.catalog.DeltaCatalog\")\n",
    "        \n",
    "\n",
    "    spark = builder.getOrCreate()\n",
    "    print(\"Spark Session Initialized\")"
   ]
  },
  {
   "cell_type": "code",
   "execution_count": null,
   "id": "f2233600-c40c-49bf-8a63-f3378d9b962f",
   "metadata": {},
   "outputs": [],
   "source": [
    "!ls /home/jovian/data/full_files"
   ]
  },
  {
   "cell_type": "code",
   "execution_count": 4,
   "id": "48a39b2f-88d3-4716-acd7-5a02fe499c9d",
   "metadata": {},
   "outputs": [
    {
     "name": "stdout",
     "output_type": "stream",
     "text": [
      "/home/jovyan/work/notebooks\n"
     ]
    }
   ],
   "source": [
    "!pwd"
   ]
  },
  {
   "cell_type": "code",
   "execution_count": 5,
   "id": "d3c5170b-05b5-478e-bddf-2169be1eae0a",
   "metadata": {},
   "outputs": [
    {
     "name": "stdout",
     "output_type": "stream",
     "text": [
      "/home/jovyan\n"
     ]
    }
   ],
   "source": [
    "%cd ../.."
   ]
  },
  {
   "cell_type": "code",
   "execution_count": 6,
   "id": "d1118b41-9fca-4bfb-a49b-93b27a1e2326",
   "metadata": {},
   "outputs": [
    {
     "name": "stdout",
     "output_type": "stream",
     "text": [
      "/home/jovyan\n"
     ]
    }
   ],
   "source": [
    "!pwd"
   ]
  },
  {
   "cell_type": "code",
   "execution_count": 9,
   "id": "f5bf182d-95de-43fb-91e3-863b4523024d",
   "metadata": {},
   "outputs": [
    {
     "name": "stdout",
     "output_type": "stream",
     "text": [
      "total 2004\n",
      "-rwxrwxrwx 1 root root  155860 Jul  7 11:48 \u001b[0m\u001b[01;32mProduct_Data.csv\u001b[0m*\n",
      "-rwxrwxrwx 1 root root 1885285 Jul  7 11:48 \u001b[01;32mSales_Data.csv\u001b[0m*\n",
      "-rwxrwxrwx 1 root root    1059 Jul  7 11:48 \u001b[01;32mStore_Data.csv\u001b[0m*\n"
     ]
    }
   ],
   "source": [
    "%ls -l /home/jovyan/data/full_files"
   ]
  },
  {
   "cell_type": "markdown",
   "id": "29634a25-5bd9-4a58-b10a-bc96f9f8ec55",
   "metadata": {},
   "source": [
    "### reading the files"
   ]
  },
  {
   "cell_type": "code",
   "execution_count": 10,
   "id": "86616cd1-df56-4241-8dc9-956fad576a20",
   "metadata": {},
   "outputs": [],
   "source": [
    "# input file paths\n",
    "product_path = \"/home/jovyan/data/full_files/Product_Data.csv\"\n",
    "sales_path = \"/home/jovyan/data/full_files/Sales_Data.csv\"\n",
    "store_path = \"/home/jovyan/data/full_files/Store_Data.csv\""
   ]
  },
  {
   "cell_type": "code",
   "execution_count": null,
   "id": "61497566-8a94-4482-8e1d-5c8c618de358",
   "metadata": {},
   "outputs": [],
   "source": []
  },
  {
   "cell_type": "markdown",
   "id": "1a88e8e5-ee01-4e05-9808-e0d112870dd1",
   "metadata": {},
   "source": [
    "##### For product"
   ]
  },
  {
   "cell_type": "code",
   "execution_count": 11,
   "id": "4865dd86-0ba7-4454-b7da-a25bd3721ae9",
   "metadata": {},
   "outputs": [],
   "source": [
    "product_df = spark.read\\\n",
    "         .option(\"inferSchema\",\"true\")\\\n",
    "            .option(\"header\",\"true\")\\\n",
    "            .option(\"delimiter\",\",\")\\\n",
    "            .csv(product_path)"
   ]
  },
  {
   "cell_type": "code",
   "execution_count": 12,
   "id": "ff3293f0-ef67-4ff2-99ce-42d0b57ad7ae",
   "metadata": {},
   "outputs": [
    {
     "data": {
      "text/html": [
       "<div>\n",
       "<style scoped>\n",
       "    .dataframe tbody tr th:only-of-type {\n",
       "        vertical-align: middle;\n",
       "    }\n",
       "\n",
       "    .dataframe tbody tr th {\n",
       "        vertical-align: top;\n",
       "    }\n",
       "\n",
       "    .dataframe thead th {\n",
       "        text-align: right;\n",
       "    }\n",
       "</style>\n",
       "<table border=\"1\" class=\"dataframe\">\n",
       "  <thead>\n",
       "    <tr style=\"text-align: right;\">\n",
       "      <th></th>\n",
       "      <th>Product ID</th>\n",
       "      <th>Product Name</th>\n",
       "      <th>Product Category</th>\n",
       "      <th>Supplier ID</th>\n",
       "      <th>Orig_Price</th>\n",
       "      <th>Date Added</th>\n",
       "    </tr>\n",
       "  </thead>\n",
       "  <tbody>\n",
       "    <tr>\n",
       "      <th>0</th>\n",
       "      <td>PROD0001</td>\n",
       "      <td>Lamp</td>\n",
       "      <td>Furniture</td>\n",
       "      <td>SUP2175</td>\n",
       "      <td>408.78</td>\n",
       "      <td>4/17/22</td>\n",
       "    </tr>\n",
       "    <tr>\n",
       "      <th>1</th>\n",
       "      <td>PROD0002</td>\n",
       "      <td>Wardrobe</td>\n",
       "      <td>Clothing</td>\n",
       "      <td>SUP2727</td>\n",
       "      <td>881.32</td>\n",
       "      <td>1/23/21</td>\n",
       "    </tr>\n",
       "    <tr>\n",
       "      <th>2</th>\n",
       "      <td>PROD0003</td>\n",
       "      <td>Camera</td>\n",
       "      <td>Accessories</td>\n",
       "      <td>SUP1802</td>\n",
       "      <td>131.51</td>\n",
       "      <td>7/29/20</td>\n",
       "    </tr>\n",
       "    <tr>\n",
       "      <th>3</th>\n",
       "      <td>PROD0004</td>\n",
       "      <td>None</td>\n",
       "      <td>Kitchenware</td>\n",
       "      <td>SUP0374</td>\n",
       "      <td>647.34</td>\n",
       "      <td>1/29/23</td>\n",
       "    </tr>\n",
       "    <tr>\n",
       "      <th>4</th>\n",
       "      <td>PROD0005</td>\n",
       "      <td>Wardrobe</td>\n",
       "      <td>Kitchenware</td>\n",
       "      <td>SUP1980</td>\n",
       "      <td>925.23</td>\n",
       "      <td>4/19/22</td>\n",
       "    </tr>\n",
       "  </tbody>\n",
       "</table>\n",
       "</div>"
      ],
      "text/plain": [
       "  Product ID Product Name Product Category Supplier ID  Orig_Price Date Added\n",
       "0   PROD0001         Lamp        Furniture     SUP2175      408.78    4/17/22\n",
       "1   PROD0002     Wardrobe         Clothing     SUP2727      881.32    1/23/21\n",
       "2   PROD0003       Camera      Accessories     SUP1802      131.51    7/29/20\n",
       "3   PROD0004         None      Kitchenware     SUP0374      647.34    1/29/23\n",
       "4   PROD0005     Wardrobe      Kitchenware     SUP1980      925.23    4/19/22"
      ]
     },
     "execution_count": 12,
     "metadata": {},
     "output_type": "execute_result"
    }
   ],
   "source": [
    "product_df.limit(10).toPandas().head()"
   ]
  },
  {
   "cell_type": "code",
   "execution_count": 14,
   "id": "5e7e69e2-3d81-44f3-98d5-e665ec9631ba",
   "metadata": {},
   "outputs": [],
   "source": [
    "# cleaning the column names\n",
    "from typing import Optional\n",
    "def preprocessing_cols(df, ingestion_date : Optional[bool] = False):\n",
    "    \"\"\"\n",
    "    cleans the column names and adds the ingestion date to the dataframe\n",
    "    \"\"\"\n",
    "    new_column_name = [x.lower().replace(\" \",\"_\") for x in df.columns]\n",
    "    df = df.toDF(*new_column_name)\n",
    "    if ingestion_date:\n",
    "        df = df.withColumn('ingestion_date',F.lit(str(datetime.date.today())))\n",
    "    return df"
   ]
  },
  {
   "cell_type": "code",
   "execution_count": 15,
   "id": "43d6b987-1e78-41da-b1d3-0da4d065fcfc",
   "metadata": {},
   "outputs": [],
   "source": [
    "from functools import wraps"
   ]
  },
  {
   "cell_type": "code",
   "execution_count": 16,
   "id": "21859a12-2594-4de3-9d65-adc16acac8eb",
   "metadata": {},
   "outputs": [],
   "source": [
    "products_main = preprocessing_cols(product_df,ingestion_date = False)"
   ]
  },
  {
   "cell_type": "code",
   "execution_count": 18,
   "id": "4baf6a62-2b34-4548-b854-4a3c49224e96",
   "metadata": {},
   "outputs": [
    {
     "name": "stdout",
     "output_type": "stream",
     "text": [
      "root\n",
      " |-- product_id: string (nullable = true)\n",
      " |-- product_name: string (nullable = true)\n",
      " |-- product_category: string (nullable = true)\n",
      " |-- supplier_id: string (nullable = true)\n",
      " |-- orig_price: double (nullable = true)\n",
      " |-- date_added: string (nullable = true)\n",
      "\n"
     ]
    }
   ],
   "source": [
    "products_main.printSchema()"
   ]
  },
  {
   "cell_type": "code",
   "execution_count": 21,
   "id": "6831c281-fde6-4745-bacd-d0ee262524fb",
   "metadata": {},
   "outputs": [],
   "source": [
    "spark.conf.set(\"spark.sql.legacy.timeParserPolicy\", \"LEGACY\")"
   ]
  },
  {
   "cell_type": "code",
   "execution_count": 22,
   "id": "ef7700c8-fe40-4dbb-8e9c-2eb808316acb",
   "metadata": {},
   "outputs": [],
   "source": [
    "df2 = products_main.withColumn('date_added',F.to_date('date_added',\"M/dd/yy\"))"
   ]
  },
  {
   "cell_type": "code",
   "execution_count": 23,
   "id": "1d566a53-e898-4ddd-9264-b60629224b66",
   "metadata": {},
   "outputs": [
    {
     "data": {
      "text/html": [
       "<div>\n",
       "<style scoped>\n",
       "    .dataframe tbody tr th:only-of-type {\n",
       "        vertical-align: middle;\n",
       "    }\n",
       "\n",
       "    .dataframe tbody tr th {\n",
       "        vertical-align: top;\n",
       "    }\n",
       "\n",
       "    .dataframe thead th {\n",
       "        text-align: right;\n",
       "    }\n",
       "</style>\n",
       "<table border=\"1\" class=\"dataframe\">\n",
       "  <thead>\n",
       "    <tr style=\"text-align: right;\">\n",
       "      <th></th>\n",
       "      <th>product_id</th>\n",
       "      <th>product_name</th>\n",
       "      <th>product_category</th>\n",
       "      <th>supplier_id</th>\n",
       "      <th>orig_price</th>\n",
       "      <th>date_added</th>\n",
       "    </tr>\n",
       "  </thead>\n",
       "  <tbody>\n",
       "    <tr>\n",
       "      <th>0</th>\n",
       "      <td>PROD0001</td>\n",
       "      <td>Lamp</td>\n",
       "      <td>Furniture</td>\n",
       "      <td>SUP2175</td>\n",
       "      <td>408.78</td>\n",
       "      <td>2022-04-17</td>\n",
       "    </tr>\n",
       "    <tr>\n",
       "      <th>1</th>\n",
       "      <td>PROD0002</td>\n",
       "      <td>Wardrobe</td>\n",
       "      <td>Clothing</td>\n",
       "      <td>SUP2727</td>\n",
       "      <td>881.32</td>\n",
       "      <td>2021-01-23</td>\n",
       "    </tr>\n",
       "    <tr>\n",
       "      <th>2</th>\n",
       "      <td>PROD0003</td>\n",
       "      <td>Camera</td>\n",
       "      <td>Accessories</td>\n",
       "      <td>SUP1802</td>\n",
       "      <td>131.51</td>\n",
       "      <td>2020-07-29</td>\n",
       "    </tr>\n",
       "    <tr>\n",
       "      <th>3</th>\n",
       "      <td>PROD0004</td>\n",
       "      <td>None</td>\n",
       "      <td>Kitchenware</td>\n",
       "      <td>SUP0374</td>\n",
       "      <td>647.34</td>\n",
       "      <td>2023-01-29</td>\n",
       "    </tr>\n",
       "    <tr>\n",
       "      <th>4</th>\n",
       "      <td>PROD0005</td>\n",
       "      <td>Wardrobe</td>\n",
       "      <td>Kitchenware</td>\n",
       "      <td>SUP1980</td>\n",
       "      <td>925.23</td>\n",
       "      <td>2022-04-19</td>\n",
       "    </tr>\n",
       "  </tbody>\n",
       "</table>\n",
       "</div>"
      ],
      "text/plain": [
       "  product_id product_name product_category supplier_id  orig_price  date_added\n",
       "0   PROD0001         Lamp        Furniture     SUP2175      408.78  2022-04-17\n",
       "1   PROD0002     Wardrobe         Clothing     SUP2727      881.32  2021-01-23\n",
       "2   PROD0003       Camera      Accessories     SUP1802      131.51  2020-07-29\n",
       "3   PROD0004         None      Kitchenware     SUP0374      647.34  2023-01-29\n",
       "4   PROD0005     Wardrobe      Kitchenware     SUP1980      925.23  2022-04-19"
      ]
     },
     "execution_count": 23,
     "metadata": {},
     "output_type": "execute_result"
    }
   ],
   "source": [
    "df2.limit(10).toPandas().head()"
   ]
  },
  {
   "cell_type": "code",
   "execution_count": 24,
   "id": "73943fd6-2e06-47c5-b93c-c0184eeed278",
   "metadata": {},
   "outputs": [
    {
     "data": {
      "text/plain": [
       "3010"
      ]
     },
     "execution_count": 24,
     "metadata": {},
     "output_type": "execute_result"
    }
   ],
   "source": [
    "df2.count()"
   ]
  },
  {
   "cell_type": "code",
   "execution_count": 25,
   "id": "07eb724a-f634-4bb6-85bf-87d805f5af6a",
   "metadata": {},
   "outputs": [],
   "source": [
    "df3 = df2.dropDuplicates()"
   ]
  },
  {
   "cell_type": "code",
   "execution_count": 26,
   "id": "c6cdd883-e9bf-46f7-acd6-1e4771d48a6e",
   "metadata": {},
   "outputs": [
    {
     "data": {
      "text/plain": [
       "3000"
      ]
     },
     "execution_count": 26,
     "metadata": {},
     "output_type": "execute_result"
    }
   ],
   "source": [
    "df3.count()"
   ]
  },
  {
   "cell_type": "code",
   "execution_count": 27,
   "id": "9eb473dd-9f20-46d9-844c-79b21ac2b0d3",
   "metadata": {},
   "outputs": [
    {
     "data": {
      "text/plain": [
       "DataFrame[]"
      ]
     },
     "execution_count": 27,
     "metadata": {},
     "output_type": "execute_result"
    }
   ],
   "source": [
    "spark.sql(\"CREATE DATABASE IF NOT EXISTS retail ;\")"
   ]
  },
  {
   "cell_type": "code",
   "execution_count": 29,
   "id": "2db2a5f9-e473-49e0-9bf0-25a06aa58c75",
   "metadata": {},
   "outputs": [
    {
     "name": "stdout",
     "output_type": "stream",
     "text": [
      "+---------+\n",
      "|namespace|\n",
      "+---------+\n",
      "|  default|\n",
      "|   retail|\n",
      "+---------+\n",
      "\n"
     ]
    }
   ],
   "source": [
    "spark.sql(\"SHOW DATABASES\").show()"
   ]
  },
  {
   "cell_type": "code",
   "execution_count": 31,
   "id": "8277a44b-fdc7-47f9-8215-9a3e48d24cd5",
   "metadata": {},
   "outputs": [
    {
     "name": "stdout",
     "output_type": "stream",
     "text": [
      "++\n",
      "||\n",
      "++\n",
      "++\n",
      "\n"
     ]
    }
   ],
   "source": [
    "spark.sql(\"USE retail;\").show()"
   ]
  },
  {
   "cell_type": "code",
   "execution_count": 37,
   "id": "2dcfa78d-3c22-4c91-9fef-d2ab0e39b9aa",
   "metadata": {},
   "outputs": [
    {
     "name": "stdout",
     "output_type": "stream",
     "text": [
      "root\n",
      " |-- product_id: string (nullable = true)\n",
      " |-- product_name: string (nullable = true)\n",
      " |-- product_category: string (nullable = true)\n",
      " |-- supplier_id: string (nullable = true)\n",
      " |-- orig_price: double (nullable = true)\n",
      " |-- date_added: date (nullable = true)\n",
      "\n"
     ]
    }
   ],
   "source": [
    "df3.printSchema()"
   ]
  },
  {
   "cell_type": "code",
   "execution_count": 34,
   "id": "5541477b-184d-4e7e-80ae-d986ef8cdf1c",
   "metadata": {},
   "outputs": [],
   "source": [
    "from delta.tables import DeltaTable"
   ]
  },
  {
   "cell_type": "code",
   "execution_count": 38,
   "id": "74bace73-99cb-44d8-a7b0-65d37a4f1a70",
   "metadata": {},
   "outputs": [
    {
     "name": "stdout",
     "output_type": "stream",
     "text": [
      "+----------+---------------+----------------+-----------+----------+----------+\n",
      "|product_id|   product_name|product_category|supplier_id|orig_price|date_added|\n",
      "+----------+---------------+----------------+-----------+----------+----------+\n",
      "|  PROD0015|       Cookware|       Furniture|    SUP1269|     230.7|2023-06-27|\n",
      "|  PROD0145|          Table|     Electronics|    SUP0119|    525.56|2020-02-05|\n",
      "|  PROD0150|      Bookshelf|     Kitchenware|    SUP1528|    108.15|2022-06-09|\n",
      "|  PROD0223|        T-shirt|      Home Decor|    SUP4918|    244.77|2021-02-27|\n",
      "|  PROD0253|       Wardrobe|     Electronics|    SUP2070|    844.61|2021-07-01|\n",
      "|  PROD0734|   Coffee Maker|      Appliances|    SUP1057|     48.94|2021-03-30|\n",
      "|  PROD0793|          Table|      Appliances|    SUP3812|     522.5|2020-11-22|\n",
      "|  PROD0861|       Cookware|        Footwear|    SUP2533|    530.51|2020-02-19|\n",
      "|  PROD0912|Washing Machine|      Home Decor|    SUP3065|    190.03|2022-02-20|\n",
      "|  PROD0939|   Coffee Maker|       Furniture|    SUP4205|    535.82|2022-02-03|\n",
      "+----------+---------------+----------------+-----------+----------+----------+\n",
      "\n"
     ]
    }
   ],
   "source": [
    "df3.limit(10).show()"
   ]
  },
  {
   "cell_type": "code",
   "execution_count": 40,
   "id": "2d8e857c-3206-4d62-8ff9-359b81a46b75",
   "metadata": {},
   "outputs": [],
   "source": [
    "df3.write.format(\"delta\").mode(\"overwrite\").save(\"/home/jovyan/data/preprocessing/products.delta\")"
   ]
  },
  {
   "cell_type": "code",
   "execution_count": null,
   "id": "121af976-c369-4b8c-8634-961bf3bc2f55",
   "metadata": {},
   "outputs": [],
   "source": []
  },
  {
   "cell_type": "code",
   "execution_count": 41,
   "id": "8efbaaee-edab-48e2-872d-b992a49ad89d",
   "metadata": {},
   "outputs": [],
   "source": [
    "### same for stores"
   ]
  },
  {
   "cell_type": "code",
   "execution_count": 42,
   "id": "e6ee3b1c-874b-41d7-b3d3-089ed898313c",
   "metadata": {},
   "outputs": [],
   "source": [
    "store_df = spark.read\\\n",
    "         .option(\"inferSchema\",\"true\")\\\n",
    "            .option(\"header\",\"true\")\\\n",
    "            .option(\"delimiter\",\",\")\\\n",
    "            .csv(store_path)"
   ]
  },
  {
   "cell_type": "code",
   "execution_count": 43,
   "id": "db627657-7666-45db-90a7-21269ad4ddee",
   "metadata": {},
   "outputs": [
    {
     "data": {
      "text/html": [
       "<div>\n",
       "<style scoped>\n",
       "    .dataframe tbody tr th:only-of-type {\n",
       "        vertical-align: middle;\n",
       "    }\n",
       "\n",
       "    .dataframe tbody tr th {\n",
       "        vertical-align: top;\n",
       "    }\n",
       "\n",
       "    .dataframe thead th {\n",
       "        text-align: right;\n",
       "    }\n",
       "</style>\n",
       "<table border=\"1\" class=\"dataframe\">\n",
       "  <thead>\n",
       "    <tr style=\"text-align: right;\">\n",
       "      <th></th>\n",
       "      <th>Store ID</th>\n",
       "      <th>Store Name</th>\n",
       "      <th>Region</th>\n",
       "      <th>Manager ID</th>\n",
       "      <th>Manager Name</th>\n",
       "    </tr>\n",
       "  </thead>\n",
       "  <tbody>\n",
       "    <tr>\n",
       "      <th>0</th>\n",
       "      <td>SI01</td>\n",
       "      <td>CityGrocer</td>\n",
       "      <td>Midwest</td>\n",
       "      <td>MAN01</td>\n",
       "      <td>Sophia Lopez</td>\n",
       "    </tr>\n",
       "    <tr>\n",
       "      <th>1</th>\n",
       "      <td>SI02</td>\n",
       "      <td>FreshMart</td>\n",
       "      <td>Northeast</td>\n",
       "      <td>MAN02</td>\n",
       "      <td>Linda White</td>\n",
       "    </tr>\n",
       "    <tr>\n",
       "      <th>2</th>\n",
       "      <td>SI03</td>\n",
       "      <td>ShopEasy</td>\n",
       "      <td>Midwest</td>\n",
       "      <td>MAN03</td>\n",
       "      <td>Elijah Moore</td>\n",
       "    </tr>\n",
       "    <tr>\n",
       "      <th>3</th>\n",
       "      <td>SI04</td>\n",
       "      <td>CornerStore</td>\n",
       "      <td>West</td>\n",
       "      <td>MAN04</td>\n",
       "      <td>Liam Wilson</td>\n",
       "    </tr>\n",
       "    <tr>\n",
       "      <th>4</th>\n",
       "      <td>SI05</td>\n",
       "      <td>MarketPlace</td>\n",
       "      <td>West</td>\n",
       "      <td>MAN05</td>\n",
       "      <td>Lucas Martin</td>\n",
       "    </tr>\n",
       "  </tbody>\n",
       "</table>\n",
       "</div>"
      ],
      "text/plain": [
       "  Store ID   Store Name     Region Manager ID  Manager Name\n",
       "0     SI01   CityGrocer    Midwest      MAN01  Sophia Lopez\n",
       "1     SI02    FreshMart  Northeast      MAN02   Linda White\n",
       "2     SI03     ShopEasy    Midwest      MAN03  Elijah Moore\n",
       "3     SI04  CornerStore       West      MAN04   Liam Wilson\n",
       "4     SI05  MarketPlace       West      MAN05  Lucas Martin"
      ]
     },
     "execution_count": 43,
     "metadata": {},
     "output_type": "execute_result"
    }
   ],
   "source": [
    "store_df.limit(10).toPandas().head()"
   ]
  },
  {
   "cell_type": "code",
   "execution_count": 47,
   "id": "f5a5dcac-e191-4ab3-b6c7-3dead3be711d",
   "metadata": {},
   "outputs": [],
   "source": [
    "store_main = preprocessing_cols(store_df,ingestion_date = False)"
   ]
  },
  {
   "cell_type": "code",
   "execution_count": 48,
   "id": "17ae98e6-2c3c-4d97-a7a6-ee98929d1940",
   "metadata": {},
   "outputs": [
    {
     "name": "stdout",
     "output_type": "stream",
     "text": [
      "root\n",
      " |-- store_id: string (nullable = true)\n",
      " |-- store_name: string (nullable = true)\n",
      " |-- region: string (nullable = true)\n",
      " |-- manager_id: string (nullable = true)\n",
      " |-- manager_name: string (nullable = true)\n",
      "\n"
     ]
    }
   ],
   "source": [
    "store_main.printSchema()"
   ]
  },
  {
   "cell_type": "code",
   "execution_count": 49,
   "id": "7f9c4034-6396-482b-9618-e280785e4f34",
   "metadata": {},
   "outputs": [
    {
     "data": {
      "text/plain": [
       "23"
      ]
     },
     "execution_count": 49,
     "metadata": {},
     "output_type": "execute_result"
    }
   ],
   "source": [
    "store_main.count()"
   ]
  },
  {
   "cell_type": "code",
   "execution_count": 50,
   "id": "24f39f61-8904-45af-af09-ae60d80fe93a",
   "metadata": {},
   "outputs": [],
   "source": [
    "store_main = store_main.dropDuplicates()"
   ]
  },
  {
   "cell_type": "code",
   "execution_count": 51,
   "id": "13a85da7-bc95-404b-84ae-73bb20665a8f",
   "metadata": {},
   "outputs": [
    {
     "data": {
      "text/plain": [
       "23"
      ]
     },
     "execution_count": 51,
     "metadata": {},
     "output_type": "execute_result"
    }
   ],
   "source": [
    "store_main.count()"
   ]
  },
  {
   "cell_type": "code",
   "execution_count": 52,
   "id": "5c86177e-d693-42a9-a520-a2504482a1aa",
   "metadata": {},
   "outputs": [],
   "source": [
    "store_main.write.format(\"delta\").mode(\"overwrite\").save(\"/home/jovyan/data/preprocessing/stores.delta\")"
   ]
  },
  {
   "cell_type": "markdown",
   "id": "c8941d8d-86ca-4580-9eb9-ab724adeb38f",
   "metadata": {},
   "source": [
    "### Same for Sales Data"
   ]
  },
  {
   "cell_type": "code",
   "execution_count": 53,
   "id": "c01b6108-2c3d-449a-ab74-4a2244d476df",
   "metadata": {},
   "outputs": [],
   "source": [
    "sales_df = spark.read\\\n",
    "         .option(\"inferSchema\",\"true\")\\\n",
    "            .option(\"header\",\"true\")\\\n",
    "            .option(\"delimiter\",\",\")\\\n",
    "            .csv(sales_path)"
   ]
  },
  {
   "cell_type": "code",
   "execution_count": 54,
   "id": "63d5da50-188d-4d08-9e76-9b9988344c30",
   "metadata": {},
   "outputs": [
    {
     "data": {
      "text/html": [
       "<div>\n",
       "<style scoped>\n",
       "    .dataframe tbody tr th:only-of-type {\n",
       "        vertical-align: middle;\n",
       "    }\n",
       "\n",
       "    .dataframe tbody tr th {\n",
       "        vertical-align: top;\n",
       "    }\n",
       "\n",
       "    .dataframe thead th {\n",
       "        text-align: right;\n",
       "    }\n",
       "</style>\n",
       "<table border=\"1\" class=\"dataframe\">\n",
       "  <thead>\n",
       "    <tr style=\"text-align: right;\">\n",
       "      <th></th>\n",
       "      <th>Transaction ID</th>\n",
       "      <th>Customer ID</th>\n",
       "      <th>Product ID</th>\n",
       "      <th>Quantity Sold</th>\n",
       "      <th>Price per Unit</th>\n",
       "      <th>Transaction Date</th>\n",
       "      <th>Salesperson ID</th>\n",
       "      <th>Payment Method</th>\n",
       "      <th>Store ID</th>\n",
       "    </tr>\n",
       "  </thead>\n",
       "  <tbody>\n",
       "    <tr>\n",
       "      <th>0</th>\n",
       "      <td>TXN0001</td>\n",
       "      <td>C1175</td>\n",
       "      <td>PROD2089</td>\n",
       "      <td>12</td>\n",
       "      <td>98.80</td>\n",
       "      <td>11/21/23</td>\n",
       "      <td>SP059</td>\n",
       "      <td>Bank Transfer</td>\n",
       "      <td>SI16</td>\n",
       "    </tr>\n",
       "    <tr>\n",
       "      <th>1</th>\n",
       "      <td>TXN0002</td>\n",
       "      <td>C1213</td>\n",
       "      <td>PROD1359</td>\n",
       "      <td>2</td>\n",
       "      <td>168.66</td>\n",
       "      <td>11/15/23</td>\n",
       "      <td>SP012</td>\n",
       "      <td>Check</td>\n",
       "      <td>SI06</td>\n",
       "    </tr>\n",
       "    <tr>\n",
       "      <th>2</th>\n",
       "      <td>TXN0003</td>\n",
       "      <td>C1212</td>\n",
       "      <td>PROD1263</td>\n",
       "      <td>14</td>\n",
       "      <td>413.96</td>\n",
       "      <td>9/18/23</td>\n",
       "      <td>SP086</td>\n",
       "      <td>Bank Transfer</td>\n",
       "      <td>SI18</td>\n",
       "    </tr>\n",
       "    <tr>\n",
       "      <th>3</th>\n",
       "      <td>TXN0004</td>\n",
       "      <td>C1266</td>\n",
       "      <td>PROD0423</td>\n",
       "      <td>7</td>\n",
       "      <td>417.73</td>\n",
       "      <td>10/7/23</td>\n",
       "      <td>SP013</td>\n",
       "      <td>Check</td>\n",
       "      <td>SI11</td>\n",
       "    </tr>\n",
       "    <tr>\n",
       "      <th>4</th>\n",
       "      <td>TXN0005</td>\n",
       "      <td>C1185</td>\n",
       "      <td>PROD0382</td>\n",
       "      <td>7</td>\n",
       "      <td>450.67</td>\n",
       "      <td>10/4/23</td>\n",
       "      <td>SP052</td>\n",
       "      <td>Bank Transfer</td>\n",
       "      <td>SI09</td>\n",
       "    </tr>\n",
       "  </tbody>\n",
       "</table>\n",
       "</div>"
      ],
      "text/plain": [
       "  Transaction ID Customer ID Product ID  Quantity Sold  Price per Unit  \\\n",
       "0        TXN0001       C1175   PROD2089             12           98.80   \n",
       "1        TXN0002       C1213   PROD1359              2          168.66   \n",
       "2        TXN0003       C1212   PROD1263             14          413.96   \n",
       "3        TXN0004       C1266   PROD0423              7          417.73   \n",
       "4        TXN0005       C1185   PROD0382              7          450.67   \n",
       "\n",
       "  Transaction Date Salesperson ID Payment Method Store ID  \n",
       "0         11/21/23          SP059  Bank Transfer     SI16  \n",
       "1         11/15/23          SP012          Check     SI06  \n",
       "2          9/18/23          SP086  Bank Transfer     SI18  \n",
       "3          10/7/23          SP013          Check     SI11  \n",
       "4          10/4/23          SP052  Bank Transfer     SI09  "
      ]
     },
     "execution_count": 54,
     "metadata": {},
     "output_type": "execute_result"
    }
   ],
   "source": [
    "sales_df.limit(10).toPandas().head(5)"
   ]
  },
  {
   "cell_type": "code",
   "execution_count": 55,
   "id": "d9a0b027-ab89-46b7-929a-b72cc07006b3",
   "metadata": {},
   "outputs": [],
   "source": [
    "sales_main = preprocessing_cols(sales_df,ingestion_date = False)"
   ]
  },
  {
   "cell_type": "code",
   "execution_count": 56,
   "id": "7587ec8d-dc2f-46d9-beca-29b3b9731cc8",
   "metadata": {},
   "outputs": [
    {
     "name": "stdout",
     "output_type": "stream",
     "text": [
      "root\n",
      " |-- transaction_id: string (nullable = true)\n",
      " |-- customer_id: string (nullable = true)\n",
      " |-- product_id: string (nullable = true)\n",
      " |-- quantity_sold: integer (nullable = true)\n",
      " |-- price_per_unit: double (nullable = true)\n",
      " |-- transaction_date: string (nullable = true)\n",
      " |-- salesperson_id: string (nullable = true)\n",
      " |-- payment_method: string (nullable = true)\n",
      " |-- store_id: string (nullable = true)\n",
      "\n"
     ]
    }
   ],
   "source": [
    "sales_main.printSchema()"
   ]
  },
  {
   "cell_type": "code",
   "execution_count": 58,
   "id": "d79040d3-3bd4-406d-819b-b42d078cacf0",
   "metadata": {},
   "outputs": [],
   "source": [
    "sales_main  = sales_main.withColumn('transaction_date',F.to_date('transaction_date','M/dd/yy'))"
   ]
  },
  {
   "cell_type": "code",
   "execution_count": 59,
   "id": "b24b8132-4215-497b-96d8-74176c60e273",
   "metadata": {},
   "outputs": [
    {
     "data": {
      "text/html": [
       "<div>\n",
       "<style scoped>\n",
       "    .dataframe tbody tr th:only-of-type {\n",
       "        vertical-align: middle;\n",
       "    }\n",
       "\n",
       "    .dataframe tbody tr th {\n",
       "        vertical-align: top;\n",
       "    }\n",
       "\n",
       "    .dataframe thead th {\n",
       "        text-align: right;\n",
       "    }\n",
       "</style>\n",
       "<table border=\"1\" class=\"dataframe\">\n",
       "  <thead>\n",
       "    <tr style=\"text-align: right;\">\n",
       "      <th></th>\n",
       "      <th>transaction_id</th>\n",
       "      <th>customer_id</th>\n",
       "      <th>product_id</th>\n",
       "      <th>quantity_sold</th>\n",
       "      <th>price_per_unit</th>\n",
       "      <th>transaction_date</th>\n",
       "      <th>salesperson_id</th>\n",
       "      <th>payment_method</th>\n",
       "      <th>store_id</th>\n",
       "    </tr>\n",
       "  </thead>\n",
       "  <tbody>\n",
       "    <tr>\n",
       "      <th>0</th>\n",
       "      <td>TXN0001</td>\n",
       "      <td>C1175</td>\n",
       "      <td>PROD2089</td>\n",
       "      <td>12</td>\n",
       "      <td>98.80</td>\n",
       "      <td>2023-11-21</td>\n",
       "      <td>SP059</td>\n",
       "      <td>Bank Transfer</td>\n",
       "      <td>SI16</td>\n",
       "    </tr>\n",
       "    <tr>\n",
       "      <th>1</th>\n",
       "      <td>TXN0002</td>\n",
       "      <td>C1213</td>\n",
       "      <td>PROD1359</td>\n",
       "      <td>2</td>\n",
       "      <td>168.66</td>\n",
       "      <td>2023-11-15</td>\n",
       "      <td>SP012</td>\n",
       "      <td>Check</td>\n",
       "      <td>SI06</td>\n",
       "    </tr>\n",
       "    <tr>\n",
       "      <th>2</th>\n",
       "      <td>TXN0003</td>\n",
       "      <td>C1212</td>\n",
       "      <td>PROD1263</td>\n",
       "      <td>14</td>\n",
       "      <td>413.96</td>\n",
       "      <td>2023-09-18</td>\n",
       "      <td>SP086</td>\n",
       "      <td>Bank Transfer</td>\n",
       "      <td>SI18</td>\n",
       "    </tr>\n",
       "    <tr>\n",
       "      <th>3</th>\n",
       "      <td>TXN0004</td>\n",
       "      <td>C1266</td>\n",
       "      <td>PROD0423</td>\n",
       "      <td>7</td>\n",
       "      <td>417.73</td>\n",
       "      <td>2023-10-07</td>\n",
       "      <td>SP013</td>\n",
       "      <td>Check</td>\n",
       "      <td>SI11</td>\n",
       "    </tr>\n",
       "    <tr>\n",
       "      <th>4</th>\n",
       "      <td>TXN0005</td>\n",
       "      <td>C1185</td>\n",
       "      <td>PROD0382</td>\n",
       "      <td>7</td>\n",
       "      <td>450.67</td>\n",
       "      <td>2023-10-04</td>\n",
       "      <td>SP052</td>\n",
       "      <td>Bank Transfer</td>\n",
       "      <td>SI09</td>\n",
       "    </tr>\n",
       "  </tbody>\n",
       "</table>\n",
       "</div>"
      ],
      "text/plain": [
       "  transaction_id customer_id product_id  quantity_sold  price_per_unit  \\\n",
       "0        TXN0001       C1175   PROD2089             12           98.80   \n",
       "1        TXN0002       C1213   PROD1359              2          168.66   \n",
       "2        TXN0003       C1212   PROD1263             14          413.96   \n",
       "3        TXN0004       C1266   PROD0423              7          417.73   \n",
       "4        TXN0005       C1185   PROD0382              7          450.67   \n",
       "\n",
       "  transaction_date salesperson_id payment_method store_id  \n",
       "0       2023-11-21          SP059  Bank Transfer     SI16  \n",
       "1       2023-11-15          SP012          Check     SI06  \n",
       "2       2023-09-18          SP086  Bank Transfer     SI18  \n",
       "3       2023-10-07          SP013          Check     SI11  \n",
       "4       2023-10-04          SP052  Bank Transfer     SI09  "
      ]
     },
     "execution_count": 59,
     "metadata": {},
     "output_type": "execute_result"
    }
   ],
   "source": [
    "sales_main.limit(10).toPandas().head()"
   ]
  },
  {
   "cell_type": "code",
   "execution_count": 60,
   "id": "a9ed198e-2af2-4ff3-9113-0f82fa277954",
   "metadata": {},
   "outputs": [],
   "source": [
    "sales_main.write.format(\"delta\").mode(\"overwrite\").save(\"/home/jovyan/data/preprocessing/sales.delta\")"
   ]
  },
  {
   "cell_type": "code",
   "execution_count": null,
   "id": "ee5607e0-bbc7-4839-9407-001d5738dd42",
   "metadata": {},
   "outputs": [],
   "source": []
  }
 ],
 "metadata": {
  "kernelspec": {
   "display_name": "Python 3 (ipykernel)",
   "language": "python",
   "name": "python3"
  },
  "language_info": {
   "codemirror_mode": {
    "name": "ipython",
    "version": 3
   },
   "file_extension": ".py",
   "mimetype": "text/x-python",
   "name": "python",
   "nbconvert_exporter": "python",
   "pygments_lexer": "ipython3",
   "version": "3.11.6"
  }
 },
 "nbformat": 4,
 "nbformat_minor": 5
}
